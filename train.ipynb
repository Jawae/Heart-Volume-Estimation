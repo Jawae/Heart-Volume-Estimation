{
 "cells": [
  {
   "cell_type": "code",
   "execution_count": 1,
   "metadata": {
    "collapsed": false
   },
   "outputs": [
    {
     "name": "stderr",
     "output_type": "stream",
     "text": [
      "Using gpu device 0: GeForce GTX TITAN X (CNMeM is disabled, CuDNN 3007)\n",
      "/usr/local/lib/python2.7/dist-packages/theano/tensor/signal/downsample.py:5: UserWarning: downsample module has been moved to the pool module.\n",
      "  warnings.warn(\"downsample module has been moved to the pool module.\")\n"
     ]
    }
   ],
   "source": [
    "import json\n",
    "from stage1.breakRedundancy import breakRedundancy \n",
    "from stage1.getStack import preparePatchStack\n",
    "from stage1.savePatchBatch import saveGroundTruthPatchs\n",
    "import utee\n",
    "from fusion_train import fusion_train"
   ]
  },
  {
   "cell_type": "code",
   "execution_count": 2,
   "metadata": {
    "collapsed": false
   },
   "outputs": [
    {
     "name": "stdout",
     "output_type": "stream",
     "text": [
      "Breaking redundancy of raw/sample_train \n",
      "1\n",
      "2\n",
      "3\n",
      "4\n",
      "5\n",
      "Breaking redundancy of raw/sample_val \n",
      "501\n",
      "502\n",
      "503\n",
      "504\n",
      "Converting training data from raw/sample_train to ./clean/min and ./clean/max\n",
      "0\n",
      "1\n",
      "2\n",
      "3\n",
      "4\n",
      "Converting validatin data from raw/sample_val to clean/sample_val\n",
      "501\n",
      "Counter({'ROW': 11})\n",
      "[True, True, True, True, True, True, True, True, True, True, True]\n",
      "502\n",
      "Counter({'ROW': 10})\n",
      "[True, True, True, True, True, True, True, True, True, True]\n",
      "503\n",
      "Counter({'ROW': 11})\n",
      "[True, True, True, True, True, True, True, True, True, True, True]\n",
      "504\n",
      "Counter({'ROW': 11})\n",
      "[True, True, True, True, True, True, True, True, True, True, True]\n",
      "reading csv file from raw/train.csv\n",
      "reading csv file from raw/train.csv\n",
      "reading all patch stacks from clean/sample_val\n",
      "loaded x_data_train: 10, location_data_train: 10, resolution_data_train: 10\n",
      "loaded x_data_val: 4, location_data_val: 4, resolution_data_val: 4\n",
      "resuming snapshot from fusion/fcn1/96.npz\n",
      "resuming snapshot from fusion/fcn2/92.npz\n",
      "resuming snapshot from fusion/fcn3/52.npz\n",
      "resuming snapshot from fusion/fcn4/470.npz\n",
      "resuming snapshot from fusion/fcn5/280.npz\n",
      "resuming snapshot from fusion/fcn6/114.npz\n",
      "resuming snapshot from fusion_snapshot/0.npz\n",
      "(array([[[[ 0.16666667]],\n",
      "\n",
      "        [[ 0.16666667]],\n",
      "\n",
      "        [[ 0.16666667]],\n",
      "\n",
      "        [[ 0.16666667]],\n",
      "\n",
      "        [[ 0.16666667]],\n",
      "\n",
      "        [[ 0.16666667]]]], dtype=float32), (1, 6, 1, 1))\n",
      "Training and validating precedure begin\n",
      "epoch 0/100 begin\n",
      ".validating, 4 samples to go\n",
      ".validating loss: 0.108224248886\n",
      "snapshot to fusion_snapshot/0.npz\n",
      "epoch 1/100 begin\n",
      ".training, 10 samples to go\n",
      ".training loss: 0.00469856290147\n",
      ".validating, 4 samples to go\n"
     ]
    },
    {
     "ename": "KeyboardInterrupt",
     "evalue": "",
     "output_type": "error",
     "traceback": [
      "\u001b[1;31m---------------------------------------------------------------------------\u001b[0m",
      "\u001b[1;31mKeyboardInterrupt\u001b[0m                         Traceback (most recent call last)",
      "\u001b[1;32m<ipython-input-2-a58016b74566>\u001b[0m in \u001b[0;36m<module>\u001b[1;34m()\u001b[0m\n\u001b[0;32m     36\u001b[0m fusion_train(x_data_train, location_data_train, resolution_data_train, volume_data_train,\n\u001b[0;32m     37\u001b[0m                  \u001b[0mx_data_val\u001b[0m\u001b[1;33m,\u001b[0m \u001b[0mlocation_data_val\u001b[0m\u001b[1;33m,\u001b[0m \u001b[0mresolution_data_val\u001b[0m\u001b[1;33m,\u001b[0m \u001b[0mvolume_data_val\u001b[0m\u001b[1;33m[\u001b[0m\u001b[1;36m8\u001b[0m\u001b[1;33m:\u001b[0m\u001b[1;33m]\u001b[0m\u001b[1;33m,\u001b[0m\u001b[1;33m\u001b[0m\u001b[0m\n\u001b[1;32m---> 38\u001b[1;33m                  fixed_size, 100, 0.005)\n\u001b[0m",
      "\u001b[1;32m/home/liao/data/kaggle/upload/fusion_train.pyc\u001b[0m in \u001b[0;36mfusion_train\u001b[1;34m(x_data_train, location_data_train, resolution_data_train, volume_data_train, x_data_val, location_data_val, resolution_data_val, volume_data_val, fixed_size, n_epoches, lr)\u001b[0m\n\u001b[0;32m    142\u001b[0m                 \u001b[0mpreds\u001b[0m \u001b[1;33m=\u001b[0m \u001b[1;33m[\u001b[0m\u001b[1;33m]\u001b[0m\u001b[1;33m\u001b[0m\u001b[0m\n\u001b[0;32m    143\u001b[0m                 \u001b[1;32mfor\u001b[0m \u001b[0madapter\u001b[0m \u001b[1;32min\u001b[0m \u001b[0madapters\u001b[0m\u001b[1;33m:\u001b[0m\u001b[1;33m\u001b[0m\u001b[0m\n\u001b[1;32m--> 144\u001b[1;33m                     \u001b[0mpreds\u001b[0m\u001b[1;33m.\u001b[0m\u001b[0mappend\u001b[0m\u001b[1;33m(\u001b[0m\u001b[0madapter\u001b[0m\u001b[1;33m.\u001b[0m\u001b[0mconvert\u001b[0m\u001b[1;33m(\u001b[0m\u001b[0mx_e\u001b[0m\u001b[1;33m)\u001b[0m\u001b[1;33m)\u001b[0m\u001b[1;33m\u001b[0m\u001b[0m\n\u001b[0m\u001b[0;32m    145\u001b[0m                 \u001b[0mpred_e\u001b[0m \u001b[1;33m=\u001b[0m \u001b[0mnp\u001b[0m\u001b[1;33m.\u001b[0m\u001b[0mconcatenate\u001b[0m\u001b[1;33m(\u001b[0m\u001b[0mpreds\u001b[0m\u001b[1;33m,\u001b[0m \u001b[0maxis\u001b[0m\u001b[1;33m=\u001b[0m\u001b[1;36m1\u001b[0m\u001b[1;33m)\u001b[0m\u001b[1;33m\u001b[0m\u001b[0m\n\u001b[0;32m    146\u001b[0m                 \u001b[0mlocation_e\u001b[0m \u001b[1;33m=\u001b[0m \u001b[0mlocation_data_val\u001b[0m\u001b[1;33m[\u001b[0m\u001b[0mi\u001b[0m\u001b[1;33m]\u001b[0m\u001b[1;33m[\u001b[0m\u001b[0mj\u001b[0m\u001b[1;33m]\u001b[0m\u001b[1;33m.\u001b[0m\u001b[0mastype\u001b[0m\u001b[1;33m(\u001b[0m\u001b[1;34m'float32'\u001b[0m\u001b[1;33m)\u001b[0m\u001b[1;33m\u001b[0m\u001b[0m\n",
      "\u001b[1;32m/home/liao/data/kaggle/upload/fusion/fcn1/adapter.pyc\u001b[0m in \u001b[0;36mconvert\u001b[1;34m(self, x_data)\u001b[0m\n\u001b[0;32m    115\u001b[0m \u001b[1;33m\u001b[0m\u001b[0m\n\u001b[0;32m    116\u001b[0m         \u001b[1;31m# forward\u001b[0m\u001b[1;33m\u001b[0m\u001b[1;33m\u001b[0m\u001b[0m\n\u001b[1;32m--> 117\u001b[1;33m         \u001b[0mpred_data\u001b[0m \u001b[1;33m=\u001b[0m \u001b[0mself\u001b[0m\u001b[1;33m.\u001b[0m\u001b[0mfn_forward\u001b[0m\u001b[1;33m(\u001b[0m\u001b[0mx_data_resized\u001b[0m\u001b[1;33m.\u001b[0m\u001b[0mastype\u001b[0m\u001b[1;33m(\u001b[0m\u001b[1;34m'float32'\u001b[0m\u001b[1;33m)\u001b[0m\u001b[1;33m)\u001b[0m\u001b[1;33m\u001b[0m\u001b[0m\n\u001b[0m\u001b[0;32m    118\u001b[0m \u001b[1;33m\u001b[0m\u001b[0m\n\u001b[0;32m    119\u001b[0m         \u001b[1;31m# resize back\u001b[0m\u001b[1;33m\u001b[0m\u001b[1;33m\u001b[0m\u001b[0m\n",
      "\u001b[1;32m/usr/local/lib/python2.7/dist-packages/theano/compile/function_module.pyc\u001b[0m in \u001b[0;36m__call__\u001b[1;34m(self, *args, **kwargs)\u001b[0m\n\u001b[0;32m    857\u001b[0m         \u001b[0mt0_fn\u001b[0m \u001b[1;33m=\u001b[0m \u001b[0mtime\u001b[0m\u001b[1;33m.\u001b[0m\u001b[0mtime\u001b[0m\u001b[1;33m(\u001b[0m\u001b[1;33m)\u001b[0m\u001b[1;33m\u001b[0m\u001b[0m\n\u001b[0;32m    858\u001b[0m         \u001b[1;32mtry\u001b[0m\u001b[1;33m:\u001b[0m\u001b[1;33m\u001b[0m\u001b[0m\n\u001b[1;32m--> 859\u001b[1;33m             \u001b[0moutputs\u001b[0m \u001b[1;33m=\u001b[0m \u001b[0mself\u001b[0m\u001b[1;33m.\u001b[0m\u001b[0mfn\u001b[0m\u001b[1;33m(\u001b[0m\u001b[1;33m)\u001b[0m\u001b[1;33m\u001b[0m\u001b[0m\n\u001b[0m\u001b[0;32m    860\u001b[0m         \u001b[1;32mexcept\u001b[0m \u001b[0mException\u001b[0m\u001b[1;33m:\u001b[0m\u001b[1;33m\u001b[0m\u001b[0m\n\u001b[0;32m    861\u001b[0m             \u001b[1;32mif\u001b[0m \u001b[0mhasattr\u001b[0m\u001b[1;33m(\u001b[0m\u001b[0mself\u001b[0m\u001b[1;33m.\u001b[0m\u001b[0mfn\u001b[0m\u001b[1;33m,\u001b[0m \u001b[1;34m'position_of_error'\u001b[0m\u001b[1;33m)\u001b[0m\u001b[1;33m:\u001b[0m\u001b[1;33m\u001b[0m\u001b[0m\n",
      "\u001b[1;31mKeyboardInterrupt\u001b[0m: "
     ]
    }
   ],
   "source": [
    "with open('./SETTINGS.json', 'r') as f:\n",
    "    config = json.load(f)\n",
    "\n",
    "in_train_data_path = config['IN_TRAIN_DATA_PATH']\n",
    "in_val_data_path = config['IN_VALIDATE_DATA_PATH']\n",
    "out_train_data_path = config['OUT_TRAIN_DATA_PATH']\n",
    "out_val_data_path = config['OUT_VALIDATE_DATA_PATH']\n",
    "train_label_path = config['TRAIN_LABEL_PATH']\n",
    "val_label_path = config['VAL_LABEL_PATH']\n",
    "clean_root = './clean'\n",
    "\n",
    "# break redundancy inplace\n",
    "print(\"Breaking redundancy of {} \".format(in_train_data_path))\n",
    "breakRedundancy(in_train_data_path)\n",
    "print(\"Breaking redundancy of {} \".format(in_val_data_path))\n",
    "breakRedundancy(in_val_data_path)\n",
    "\n",
    "# convert to inner data format\n",
    "print(\"Converting training data from {} to {}/min and {}/max\".format(in_train_data_path, clean_root, clean_root))\n",
    "saveGroundTruthPatchs(in_train_data_path, train_label_path, clean_root)\n",
    "print(\"Converting validatin data from {} to {}\".format(in_val_data_path, out_val_data_path))\n",
    "preparePatchStack(in_val_data_path, out_val_data_path)\n",
    "\n",
    "# load train and val csv data\n",
    "fixed_size = (48, 48)\n",
    "volume_data_train = utee.read_csv(train_label_path)\n",
    "volume_data_val = utee.read_csv(val_label_path)\n",
    "x_data_train, location_data_train, resolution_data_train = utee.load_min_max_patch_stacks(clean_root, fixed_size)\n",
    "x_data_val, location_data_val, resolution_data_val = utee.load_patch_stacks(out_val_data_path, fixed_size)\n",
    "print(\"loaded x_data_train: {}, location_data_train: {}, resolution_data_train: {}\".format(\n",
    "    len(x_data_train), len(location_data_train), len(resolution_data_train)))\n",
    "print(\"loaded x_data_val: {}, location_data_val: {}, resolution_data_val: {}\".format(\n",
    "    len(x_data_val), len(location_data_val), len(resolution_data_val)))\n",
    "\n",
    "\n",
    "fusion_train(x_data_train, location_data_train, resolution_data_train, volume_data_train,\n",
    "                 x_data_val, location_data_val, resolution_data_val, volume_data_val[8:],\n",
    "                 fixed_size, 100, 0.005)"
   ]
  }
 ],
 "metadata": {
  "kernelspec": {
   "display_name": "Python 2",
   "language": "python",
   "name": "python2"
  },
  "language_info": {
   "codemirror_mode": {
    "name": "ipython",
    "version": 2
   },
   "file_extension": ".py",
   "mimetype": "text/x-python",
   "name": "python",
   "nbconvert_exporter": "python",
   "pygments_lexer": "ipython2",
   "version": "2.7.6"
  }
 },
 "nbformat": 4,
 "nbformat_minor": 0
}
