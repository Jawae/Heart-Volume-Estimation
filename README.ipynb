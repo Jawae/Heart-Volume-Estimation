{
 "cells": [
  {
   "cell_type": "markdown",
   "metadata": {},
   "source": [
    "OS: linux\n",
    "\n",
    "Hardware: NVIDIA GPU required\n",
    "\n",
    "3rd-party software: CUDA, caffe, opencv, theano, lasagne, matlab, and other dependencies required by them. We use the bleeding edge edition of theano, lasagne and caffe."
   ]
  },
  {
   "cell_type": "markdown",
   "metadata": {},
   "source": [
    "# HOW TO TRAIN"
   ]
  },
  {
   "cell_type": "markdown",
   "metadata": {},
   "source": [
    "Firstly, specify the path to target folder in SETTINGS.json:\n",
    "\n",
    "1. **IN_TRAIN_DATA_PATH**, path to train folder, please put in it `raw` folder\n",
    "2. **IN_VALIDATE_DATA_PATH**, path to validate folder, please put it in `raw` folder\n",
    "3. **OUT_TRAIN_DATA_PATH**, path to which the preprocess results of train folder are stored, please put it in `clean` folder\n",
    "4. **OUT_VALIDATE_DATA_PATH**, path to which the preprocess results of validate folder are stored, please put it in `clean` floder\n",
    "5. **TRAIN_LABEL_PATH**, path to train.csv, in which the number of rows should equal to the numpy of subfolders of IN_TRAIN_DATA_PATH\n",
    "6. **VAL_LABEL_PATH**, path to validate.csv\n",
    "7. FUSION_SNAPSHOT_PATH, path to model snapshot, **please do not modify this**\n",
    "\n",
    "\n",
    "\n",
    "This algorithm includes two stages, the first one is detecting the heart area, which requires opencv, matlab and caffe. The parameters are already stored in folder */stage1*, to re-train those parameters by your own, please refer to the README.md in stage1. The output of this stage is a stack of images at per frame, and stored in disk.\n",
    "\n",
    "The second stage is computing volume out of a patch stack. It is an ensamble consists of 6 models. Each model is packaged by an adaptor class in directory fusion(fcn1, fcn2...). Our auto-learning procedure learning the weight of each model in ensamble. And it will automatically gives the submit result.\n",
    "\n",
    "Then, run `python train.py`"
   ]
  },
  {
   "cell_type": "markdown",
   "metadata": {},
   "source": [
    "# How to predict"
   ]
  },
  {
   "cell_type": "markdown",
   "metadata": {},
   "source": [
    "1. **IN_TEST_DATA_PATH**, path to test folder\n",
    "2. **OUT_TEST_DATA_PATH**, path to which the preprocess results of test folder are stored\n",
    "3. **SUBMIT_PATH**, path to save the submit csv file\n",
    "\n",
    "Place the new test data in **IN_TEST_DATA_PATH**, also specify **OUT_TEST_DATA_PATH** and **SUBMIT_PATH**\n",
    "\n",
    "Then, run `python predict.py`"
   ]
  }
 ],
 "metadata": {
  "kernelspec": {
   "display_name": "Python 2",
   "language": "python",
   "name": "python2"
  },
  "language_info": {
   "codemirror_mode": {
    "name": "ipython",
    "version": 2
   },
   "file_extension": ".py",
   "mimetype": "text/x-python",
   "name": "python",
   "nbconvert_exporter": "python",
   "pygments_lexer": "ipython2",
   "version": "2.7.6"
  }
 },
 "nbformat": 4,
 "nbformat_minor": 0
}
