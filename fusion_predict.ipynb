{
 "cells": [
  {
   "cell_type": "code",
   "execution_count": 1,
   "metadata": {
    "collapsed": false
   },
   "outputs": [
    {
     "name": "stderr",
     "output_type": "stream",
     "text": [
      "Using gpu device 0: GeForce GTX TITAN X (CNMeM is disabled, CuDNN 3007)\n",
      "/usr/local/lib/python2.7/dist-packages/theano/tensor/signal/downsample.py:5: UserWarning: downsample module has been moved to the pool module.\n",
      "  warnings.warn(\"downsample module has been moved to the pool module.\")\n"
     ]
    }
   ],
   "source": [
    "from lasagne.layers import InputLayer, Conv2DLayer, MaxPool2DLayer, DenseLayer, GlobalPoolLayer, Upscale2DLayer\n",
    "from lasagne.layers import ElemwiseSumLayer, NonlinearityLayer, SliceLayer, ConcatLayer, ScaleLayer\n",
    "from lasagne.layers import dropout, batch_norm\n",
    "from lasagne.nonlinearities import rectify, softmax, sigmoid\n",
    "from lasagne.init import GlorotNormal, GlorotUniform, HeUniform, HeNormal\n",
    "from lasagne.objectives import squared_error, categorical_crossentropy, categorical_accuracy, binary_accuracy\n",
    "import lasagne\n",
    "import theano.tensor as T\n",
    "import numpy as np\n",
    "import random\n",
    "import theano\n",
    "import os\n",
    "import pandas as pd\n",
    "import cv2\n",
    "import re\n",
    "import sys\n",
    "import json\n",
    "import benchmark as bm\n",
    "import utee\n",
    "from fusion.fcn1.adapter import adapter as adapter1\n",
    "from fusion.fcn2.adapter import adapter as adapter2\n",
    "from fusion.fcn3.adapter import adapter as adapter3\n",
    "from fusion.fcn4.adapter import adapter as adapter4\n",
    "from fusion.fcn5.adapter import adapter as adapter5\n",
    "from fusion.fcn6.adapter import adapter as adapter6"
   ]
  },
  {
   "cell_type": "markdown",
   "metadata": {},
   "source": [
    "# Configuration"
   ]
  },
  {
   "cell_type": "code",
   "execution_count": 2,
   "metadata": {
    "collapsed": true
   },
   "outputs": [],
   "source": [
    "# x_data_test, location_data_test, resolution_data_test = utee.load_patch_stacks(out_test_data_path, fixed_size)\n",
    "fusion_snapshot_path = 'fusion_snapshot/0.npz'\n",
    "out_test_data_path = 'clean/sample_test'\n",
    "stage2_data_root_dir = 'stage2'\n",
    "submist_save_file_path = 'submit.csv'\n",
    "fixed_size = (48, 48)"
   ]
  },
  {
   "cell_type": "markdown",
   "metadata": {},
   "source": [
    "# Build model"
   ]
  },
  {
   "cell_type": "code",
   "execution_count": 3,
   "metadata": {
    "collapsed": false
   },
   "outputs": [
    {
     "name": "stdout",
     "output_type": "stream",
     "text": [
      "resuming snapshot from fusion/fcn1/96.npz\n",
      "resuming snapshot from fusion/fcn2/92.npz\n",
      "resuming snapshot from fusion/fcn3/52.npz\n",
      "resuming snapshot from fusion/fcn4/470.npz\n",
      "resuming snapshot from fusion/fcn5/280.npz\n",
      "resuming snapshot from fusion/fcn6/114.npz\n",
      "resuming snapshot from fusion_snapshot/0.npz\n"
     ]
    }
   ],
   "source": [
    "# all adapters\n",
    "adapters = []\n",
    "adapters.append(adapter1((48, 48), 'fusion/fcn1/96.npz'))\n",
    "adapters.append(adapter2((48, 48), 'fusion/fcn2/92.npz'))\n",
    "adapters.append(adapter3((48, 48), 'fusion/fcn3/52.npz'))\n",
    "adapters.append(adapter4((48, 48), 'fusion/fcn4/470.npz'))\n",
    "adapters.append(adapter5((48, 48), 'fusion/fcn5/280.npz'))\n",
    "adapters.append(adapter6((48, 48), 'fusion/fcn6/114.npz'))\n",
    "\n",
    "# input tensor\n",
    "pred = T.tensor4('pred')\n",
    "location = T.vector('location')\n",
    "resolution = T.matrix('resolution')\n",
    "target_volume = T.fscalar('volume')\n",
    "\n",
    "\n",
    "# fusion layers\n",
    "l_in = InputLayer(shape=(None, len(adapters), fixed_size[0], fixed_size[1]), input_var = pred)\n",
    "mid = Conv2DLayer(l_in, num_filters=1, filter_size=(1, 1), W=HeNormal())\n",
    "l_out = GlobalPoolLayer(mid)\n",
    "\n",
    "\n",
    "test_area = lasagne.layers.get_output(l_out, deterministic=True).flatten()\n",
    "\n",
    "test_pred_volume = utee.build_volume2(test_area, location, resolution, fixed_size)\n",
    "\n",
    "test_fn = theano.function(\n",
    "    [pred, location, resolution],\n",
    "    [test_area, test_pred_volume]\n",
    ")\n",
    "\n",
    "area_fn = theano.function(\n",
    "    [pred],\n",
    "    test_area\n",
    ")\n",
    "\n",
    "if os.path.exists(fusion_snapshot_path):\n",
    "    with np.load(fusion_snapshot_path) as f:\n",
    "        param_values = [f['arr_{}'.format(i)] for i in range(len(f.files))]\n",
    "    print('resuming snapshot from {}'.format(fusion_snapshot_path))\n",
    "    param_cur = lasagne.layers.get_all_params(l_out)\n",
    "    assert len(param_cur) == len(param_values)\n",
    "    for p, v in zip(param_cur, param_values):\n",
    "        p.set_value(v)\n",
    "else:\n",
    "    print(\"snapshot {} not found\".format(fusion_snapshot_path))"
   ]
  },
  {
   "cell_type": "markdown",
   "metadata": {},
   "source": [
    "# Predicting"
   ]
  },
  {
   "cell_type": "code",
   "execution_count": 4,
   "metadata": {
    "collapsed": false
   },
   "outputs": [
    {
     "name": "stdout",
     "output_type": "stream",
     "text": [
      "loaded pos_patch: (21750, 48, 48), pos_label: (21750, 48, 48) from stage2/train\n",
      "loaded pos_patch: (2400, 48, 48), pos_label: (2400, 48, 48) from stage2/val\n",
      "(2400, 48, 48)\n",
      "loaded neg_patch: (11392, 48, 48), neg_label: (11392, 48, 48) from stage2/neg.npy\n",
      "ratio: 0.0\n",
      "train_patch: pos (24150, 48, 48), neg (0, 48, 48), total (24150, 48, 48)\n",
      "train_label: pos (24150, 48, 48), neg (0, 48, 48), total (24150, 48, 48)\n",
      "val_patch: pos (1, 48, 48), neg (0, 48, 48), total (1, 48, 48)\n",
      "val_label: pos (1, 48, 48), neg (0, 48, 48), total (1, 48, 48)\n",
      "0\n",
      "500\n",
      "1000\n",
      "1500\n",
      "reading all patch stacks from clean/sample_test\n",
      "0\n",
      "saving to submit.csv\n"
     ]
    }
   ],
   "source": [
    "bm.fusion_submit(stage2_data_root_dir, out_test_data_path,\n",
    "                  adapters, area_fn, test_fn, \n",
    "                  fixed_size, submist_save_file_path)"
   ]
  },
  {
   "cell_type": "code",
   "execution_count": null,
   "metadata": {
    "collapsed": true
   },
   "outputs": [],
   "source": []
  }
 ],
 "metadata": {
  "kernelspec": {
   "display_name": "Python 2",
   "language": "python",
   "name": "python2"
  },
  "language_info": {
   "codemirror_mode": {
    "name": "ipython",
    "version": 2
   },
   "file_extension": ".py",
   "mimetype": "text/x-python",
   "name": "python",
   "nbconvert_exporter": "python",
   "pygments_lexer": "ipython2",
   "version": "2.7.6"
  }
 },
 "nbformat": 4,
 "nbformat_minor": 0
}
