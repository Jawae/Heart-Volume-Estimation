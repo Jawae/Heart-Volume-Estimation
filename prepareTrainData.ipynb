{
 "cells": [
  {
   "cell_type": "code",
   "execution_count": 9,
   "metadata": {
    "collapsed": false
   },
   "outputs": [],
   "source": [
    "import json\n",
    "from stage1.breakRedundancy import breakRedundancy \n",
    "from stage1.getStack import preparePatchStack\n",
    "from stage1.savePatchBatch import saveGroundTruthPatchs"
   ]
  },
  {
   "cell_type": "code",
   "execution_count": 12,
   "metadata": {
    "collapsed": false
   },
   "outputs": [
    {
     "name": "stdout",
     "output_type": "stream",
     "text": [
      "{u'VAL_LABEL_PATH': u'raw/train.csv', u'OUT_VALIDATE_DATA_PATH': u'clean/sample_val', u'TRAIN_LABEL_PATH': u'raw/train.csv', u'IN_TRAIN_DATA_PATH': u'raw/sample_train', u'OUT_TRAIN_DATA_PATH': u'clean/sample_train', u'IN_VALIDATE_DATA_PATH': u'raw/sample_val'}\n"
     ]
    }
   ],
   "source": [
    "with open('./SETTINGS.json', 'r') as f:\n",
    "    data = json.load(f)\n",
    "print(data)"
   ]
  },
  {
   "cell_type": "code",
   "execution_count": 3,
   "metadata": {
    "collapsed": false
   },
   "outputs": [
    {
     "name": "stdout",
     "output_type": "stream",
     "text": [
      "1\n",
      "2\n",
      "3\n",
      "4\n",
      "5\n",
      "501\n",
      "502\n",
      "503\n",
      "504\n",
      "505\n",
      "1\n",
      "Counter({'ROW': 16})\n",
      "[True, True, True, True, True, True, True, True, True, True, True, True, True, True, True, True]\n",
      "2\n",
      "Counter({'ROW': 11})\n",
      "[True, True, True, True, True, True, True, True, True, True, True]\n",
      "3\n",
      "Counter({'ROW': 8})\n",
      "[True, True, True, True, True, True, True, True]\n",
      "4\n",
      "Counter({'ROW': 10})\n",
      "[True, True, True, True, True, True, True, True, True, True]\n",
      "5\n",
      "Counter({'COL': 11})\n",
      "[True, True, True, True, True, True, True, True, True, True, True]\n",
      "501\n",
      "Counter({'ROW': 11})\n",
      "[True, True, True, True, True, True, True, True, True, True, True]\n",
      "502\n",
      "Counter({'ROW': 10})\n",
      "[True, True, True, True, True, True, True, True, True, True]\n",
      "503\n",
      "Counter({'ROW': 11})\n",
      "[True, True, True, True, True, True, True, True, True, True, True]\n",
      "504\n",
      "Counter({'ROW': 11})\n",
      "[True, True, True, True, True, True, True, True, True, True, True]\n",
      "505\n",
      "Counter({'COL': 10})\n",
      "[True, True, True, True, True, True, True, True, True, True]\n"
     ]
    }
   ],
   "source": [
    "breakRedundancy(data['IN_TRAIN_DATA_PATH'])\n",
    "breakRedundancy(data['IN_VALIDATE_DATA_PATH'])\n",
    "\n",
    "train_data_path = data['OUT_TRAIN_DATA_PATH']\n",
    "valid_data_path = data['OUT_VALIDATE_DATA_PATH']\n",
    "preparePatchStack(data['IN_TRAIN_DATA_PATH'],train_data_path)\n",
    "preparePatchStack(data['IN_VALIDATE_DATA_PATH'],valid_data_path)\n"
   ]
  },
  {
   "cell_type": "code",
   "execution_count": 13,
   "metadata": {
    "collapsed": false
   },
   "outputs": [
    {
     "name": "stdout",
     "output_type": "stream",
     "text": [
      "0\n",
      "1\n",
      "2\n",
      "3\n",
      "4\n"
     ]
    }
   ],
   "source": [
    "saveGroundTruthPatchs(data['IN_TRAIN_DATA_PATH'],data['TRAIN_LABEL_PATH'],'./clean')"
   ]
  },
  {
   "cell_type": "code",
   "execution_count": 4,
   "metadata": {
    "collapsed": true
   },
   "outputs": [],
   "source": [
    "import os"
   ]
  },
  {
   "cell_type": "code",
   "execution_count": null,
   "metadata": {
    "collapsed": true
   },
   "outputs": [],
   "source": [
    "os.path."
   ]
  }
 ],
 "metadata": {
  "kernelspec": {
   "display_name": "Python 2",
   "language": "python",
   "name": "python2"
  },
  "language_info": {
   "codemirror_mode": {
    "name": "ipython",
    "version": 2
   },
   "file_extension": ".py",
   "mimetype": "text/x-python",
   "name": "python",
   "nbconvert_exporter": "python",
   "pygments_lexer": "ipython2",
   "version": "2.7.6"
  }
 },
 "nbformat": 4,
 "nbformat_minor": 0
}
